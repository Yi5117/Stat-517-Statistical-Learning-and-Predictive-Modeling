{
 "cells": [
  {
   "cell_type": "markdown",
   "metadata": {},
   "source": [
    "Project 1 Question 3 stats 517"
   ]
  },
  {
   "cell_type": "code",
   "execution_count": 56,
   "metadata": {},
   "outputs": [],
   "source": [
    "import seaborn as sns\n",
    "import pandas as pd\n",
    "import os\n",
    "from sklearn import preprocessing\n",
    "import numpy as np\n",
    "import random\n",
    "import math\n",
    "from sklearn.metrics import roc_curve\n",
    "from sklearn.metrics import roc_auc_score\n",
    "import matplotlib.pyplot as plt\n",
    "from sklearn.neighbors import KNeighborsClassifier\n",
    "from sklearn.cross_validation import train_test_split\n",
    "from sklearn.naive_bayes import GaussianNB\n",
    "from sklearn.naive_bayes import MultinomialNB\n",
    "from sklearn.metrics import accuracy_score\n",
    "from sklearn.linear_model import LogisticRegression\n",
    "from sklearn.svm import LinearSVC\n",
    "from sklearn import metrics, cross_validation\n",
    "from sklearn.ensemble import RandomForestClassifier"
   ]
  },
  {
   "cell_type": "code",
   "execution_count": 4,
   "metadata": {},
   "outputs": [],
   "source": [
    "#Reading in data\n",
    "Caravantest = pd.read_csv(\"http://www.webpages.uidaho.edu/~stevel/Datasets/Caravan_unk.csv\")\n",
    "Caravantrain = pd.read_csv(\"http://www.webpages.uidaho.edu/~stevel/Datasets/Caravan_train.csv\")\n",
    "\n",
    "#Change purchase variable from no yes into variables 0 and 1\n",
    "Caravantrain['Purchase'] = Caravantrain.Purchase.map({'No':0,'Yes':1})\n",
    "Caravantrain.head()\n",
    "\n",
    "#Creating testing and training set\n",
    "xvar=Caravantrain.drop('Purchase',axis=1)\n",
    "yvar=Caravantrain['Purchase']\n",
    "xtrain, xtest, ytrain, ytest = train_test_split(xvar,yvar,random_state=321)"
   ]
  },
  {
   "cell_type": "code",
   "execution_count": 5,
   "metadata": {},
   "outputs": [
    {
     "name": "stdout",
     "output_type": "stream",
     "text": [
      "Training score under logistic regression is 0.9401\n",
      "Test score under logistic regression is 0.9309\n",
      "Area under the curve is 0.4972\n"
     ]
    }
   ],
   "source": [
    "#Models\n",
    "#logistic regression, first model\n",
    "LogReg=LogisticRegression().fit(xtrain, ytrain)\n",
    "ModelPred=LogReg.predict(xtest)\n",
    "print('Training score under logistic regression is {:.4f}'.format(LogReg.score(xtrain,ytrain)))\n",
    "print('Test score under logistic regression is {:.4f}'.format(LogReg.score(xtest,ytest)))\n",
    "roclog=roc_auc_score(ytest,ModelPred)\n",
    "print('Area under the curve is {:.4f}'.format(roclog))\n",
    "#High accuracy however, note the low area under roc curve"
   ]
  },
  {
   "cell_type": "code",
   "execution_count": 6,
   "metadata": {},
   "outputs": [
    {
     "name": "stdout",
     "output_type": "stream",
     "text": [
      "Training score under Gaussian Naive Bayes is 0.1276\n",
      "Test score under Gaussian Naive Bayes is 0.1390\n"
     ]
    }
   ],
   "source": [
    "#Naive bayes second model\n",
    "Gaussian = GaussianNB()\n",
    "Gaussian.fit(xtrain, ytrain)\n",
    "print('Training score under Gaussian Naive Bayes is {:.4f}'.format(Gaussian.score(xtrain, ytrain)))\n",
    "print('Test score under Gaussian Naive Bayes is {:.4f}'.format(Gaussian.score(xtest, ytest)))\n",
    "#Not good."
   ]
  },
  {
   "cell_type": "code",
   "execution_count": 7,
   "metadata": {},
   "outputs": [
    {
     "name": "stdout",
     "output_type": "stream",
     "text": [
      "Training score under Multinomial Naive Bayes is 0.7607\n",
      "Test score under Multinomial Naive Bayes is 0.7582\n"
     ]
    }
   ],
   "source": [
    "#Multinomial naive bayes instead.\n",
    "MultiNB=MultinomialNB()\n",
    "MultiNB.fit(xtrain, ytrain)\n",
    "print('Training score under Multinomial Naive Bayes is {:.4f}'.format(MultiNB.score(xtrain, ytrain)))\n",
    "print('Test score under Multinomial Naive Bayes is {:.4f}'.format(MultiNB.score(xtest, ytest)))\n"
   ]
  },
  {
   "cell_type": "code",
   "execution_count": 8,
   "metadata": {},
   "outputs": [
    {
     "name": "stdout",
     "output_type": "stream",
     "text": [
      "Accuracy for the Multinomial naive bayes model is 0.7582\n",
      "The area under the curve is 0.6379\n"
     ]
    }
   ],
   "source": [
    "NBpred=MultiNB.predict(xtest)\n",
    "NBacc=accuracy_score(ytest, NBpred)\n",
    "print('Accuracy for the Multinomial naive bayes model is {:.4f}'.format(NBacc))\n",
    "nbroc=roc_auc_score(ytest,NBpred)\n",
    "print('The area under the curve is {:.4f}'.format(nbroc))"
   ]
  },
  {
   "cell_type": "code",
   "execution_count": 9,
   "metadata": {},
   "outputs": [
    {
     "name": "stdout",
     "output_type": "stream",
     "text": [
      "Accuracy for the KNN is 0.8921\n",
      "The area under the curve is 0.5268\n"
     ]
    }
   ],
   "source": [
    "#K Nearest Neighbors\n",
    "knn= KNeighborsClassifier(n_neighbors=1)\n",
    "knn.fit(xtrain,ytrain)\n",
    "knnpred=knn.predict(xtest)\n",
    "print('Accuracy for the KNN is {:.4f}'.format(knn.score(xtest,ytest)))\n",
    "knnroc=roc_auc_score(ytest, knnpred)\n",
    "print('The area under the curve is {:.4f}'.format(knnroc))"
   ]
  },
  {
   "cell_type": "code",
   "execution_count": 10,
   "metadata": {},
   "outputs": [
    {
     "name": "stdout",
     "output_type": "stream",
     "text": [
      "Accuracy for the KNN is 0.9352\n",
      "The area under the curve is 0.5268\n"
     ]
    }
   ],
   "source": [
    "#Testing KNN with different values for n_neighbors\n",
    "knn10= KNeighborsClassifier(n_neighbors=10)\n",
    "knn10.fit(xtrain,ytrain)\n",
    "knn10pred=knn.predict(xtest)\n",
    "print('Accuracy for the KNN is {:.4f}'.format(knn10.score(xtest,ytest)))\n",
    "knn10roc=roc_auc_score(ytest, knn10pred)\n",
    "print('The area under the curve is {:.4f}'.format(knn10roc))"
   ]
  },
  {
   "cell_type": "code",
   "execution_count": 11,
   "metadata": {},
   "outputs": [
    {
     "name": "stdout",
     "output_type": "stream",
     "text": [
      "Accuracy for the KNN is 0.9361\n",
      "The area under the curve is 0.5268\n"
     ]
    }
   ],
   "source": [
    "knn50= KNeighborsClassifier(n_neighbors=50)\n",
    "knn50.fit(xtrain,ytrain)\n",
    "knn50pred=knn.predict(xtest)\n",
    "print('Accuracy for the KNN is {:.4f}'.format(knn50.score(xtest,ytest)))\n",
    "knn50roc=roc_auc_score(ytest, knn50pred)\n",
    "print('The area under the curve is {:.4f}'.format(knn50roc))"
   ]
  },
  {
   "cell_type": "code",
   "execution_count": 13,
   "metadata": {},
   "outputs": [
    {
     "name": "stdout",
     "output_type": "stream",
     "text": [
      "Training score for the random forest model is 0.9836\n",
      "Test score for the random forest model is 0.9836\n",
      "The area under the curve is 0.5143\n"
     ]
    }
   ],
   "source": [
    "#random forest model\n",
    "rf=RandomForestClassifier().fit(xtrain,ytrain)\n",
    "print('Training score for the random forest model is {:.4f}'.format(rf.score(xtrain,ytrain)))\n",
    "print('Test score for the random forest model is {:.4f}'.format(rf.score(xtrain,ytrain)))\n",
    "rfmodel=rf.predict(xtest)\n",
    "rfroc=roc_auc_score(ytest,rfmodel)\n",
    "print('The area under the curve is {:.4f}'.format(rfroc))\n",
    "#The score improves however it is difficult to increase the roc curve on this model.."
   ]
  },
  {
   "cell_type": "code",
   "execution_count": 14,
   "metadata": {},
   "outputs": [],
   "source": [
    "#Support Vector Machine actually broke my machine. This test will be omitted\n",
    "#svm=SVC()\n",
    "#svm.fit(xtrain, ytrain)\n",
    "#print('Training score under svm is {:.4f}'.format(svc.score(xtrain,ytrain)))\n",
    "#print('Test score under svm is {:.4f}'.format(svc.score(xtest,ytest)))\n",
    "#Results were unable to compute. "
   ]
  },
  {
   "cell_type": "code",
   "execution_count": 15,
   "metadata": {},
   "outputs": [],
   "source": [
    "#Multinomial Bayes had a high acuracy and high area under the roc curve\n",
    "#This model will be used to predict the top 50 customers"
   ]
  },
  {
   "cell_type": "code",
   "execution_count": 67,
   "metadata": {},
   "outputs": [],
   "source": [
    "CaravanOriginal = pd.read_csv(\"http://www.webpages.uidaho.edu/~stevel/Datasets/Caravan_unk.csv\")"
   ]
  },
  {
   "cell_type": "code",
   "execution_count": 69,
   "metadata": {},
   "outputs": [],
   "source": [
    "mnb=MultiNB.predict_proba(CaravanOriginal)[:,1]"
   ]
  },
  {
   "cell_type": "code",
   "execution_count": 72,
   "metadata": {},
   "outputs": [],
   "source": [
    "mnb=pd.DataFrame(mnb)\n",
    "mnb.columns=mnb.columns+1\n",
    "mnb.index=mnb.index"
   ]
  },
  {
   "cell_type": "code",
   "execution_count": 74,
   "metadata": {},
   "outputs": [],
   "source": [
    "mnbTOP50=pd.merge(CaravanOriginal,mnb,left_index=True, right_index=True)"
   ]
  },
  {
   "cell_type": "code",
   "execution_count": 75,
   "metadata": {},
   "outputs": [],
   "source": [
    "mnb50=mnbTOP50.sort_values(by=[1],ascending=False)"
   ]
  },
  {
   "cell_type": "code",
   "execution_count": 76,
   "metadata": {},
   "outputs": [],
   "source": [
    "mnb50ordered=mnb50.sort_values(by=[1], ascending=False)"
   ]
  },
  {
   "cell_type": "code",
   "execution_count": 77,
   "metadata": {},
   "outputs": [],
   "source": [
    "mnb=mnb50ordered[1]\n"
   ]
  },
  {
   "cell_type": "code",
   "execution_count": 78,
   "metadata": {},
   "outputs": [
    {
     "data": {
      "text/plain": [
       "30     1.000000\n",
       "738    1.000000\n",
       "389    1.000000\n",
       "414    1.000000\n",
       "423    1.000000\n",
       "866    1.000000\n",
       "254    1.000000\n",
       "487    1.000000\n",
       "2      1.000000\n",
       "580    1.000000\n",
       "29     1.000000\n",
       "765    1.000000\n",
       "403    1.000000\n",
       "41     1.000000\n",
       "51     1.000000\n",
       "497    1.000000\n",
       "232    0.999999\n",
       "449    0.999999\n",
       "16     0.999999\n",
       "991    0.999999\n",
       "402    0.999999\n",
       "201    0.999999\n",
       "529    0.999998\n",
       "956    0.999998\n",
       "651    0.999998\n",
       "132    0.999997\n",
       "467    0.999997\n",
       "156    0.999996\n",
       "44     0.999996\n",
       "630    0.999995\n",
       "952    0.999995\n",
       "852    0.999993\n",
       "986    0.999992\n",
       "354    0.999992\n",
       "675    0.999991\n",
       "899    0.999991\n",
       "601    0.999990\n",
       "891    0.999988\n",
       "961    0.999984\n",
       "19     0.999984\n",
       "770    0.999983\n",
       "109    0.999982\n",
       "868    0.999980\n",
       "540    0.999978\n",
       "849    0.999978\n",
       "506    0.999975\n",
       "463    0.999974\n",
       "257    0.999973\n",
       "56     0.999966\n",
       "65     0.999966\n",
       "Name: 1, dtype: float64"
      ]
     },
     "execution_count": 78,
     "metadata": {},
     "output_type": "execute_result"
    }
   ],
   "source": [
    "mnb.head(n=50)"
   ]
  },
  {
   "cell_type": "code",
   "execution_count": null,
   "metadata": {},
   "outputs": [],
   "source": []
  }
 ],
 "metadata": {
  "kernelspec": {
   "display_name": "Python 3",
   "language": "python",
   "name": "python3"
  },
  "language_info": {
   "codemirror_mode": {
    "name": "ipython",
    "version": 3
   },
   "file_extension": ".py",
   "mimetype": "text/x-python",
   "name": "python",
   "nbconvert_exporter": "python",
   "pygments_lexer": "ipython3",
   "version": "3.6.6"
  }
 },
 "nbformat": 4,
 "nbformat_minor": 2
}
